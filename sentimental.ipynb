{
 "cells": [
  {
   "cell_type": "code",
   "execution_count": 14,
   "metadata": {},
   "outputs": [],
   "source": [
    "import pandas as pd\n",
    "import numpy as np\n",
    "from textblob import TextBlob"
   ]
  },
  {
   "cell_type": "code",
   "execution_count": 15,
   "metadata": {},
   "outputs": [
    {
     "data": {
      "text/html": [
       "<div>\n",
       "<style scoped>\n",
       "    .dataframe tbody tr th:only-of-type {\n",
       "        vertical-align: middle;\n",
       "    }\n",
       "\n",
       "    .dataframe tbody tr th {\n",
       "        vertical-align: top;\n",
       "    }\n",
       "\n",
       "    .dataframe thead th {\n",
       "        text-align: right;\n",
       "    }\n",
       "</style>\n",
       "<table border=\"1\" class=\"dataframe\">\n",
       "  <thead>\n",
       "    <tr style=\"text-align: right;\">\n",
       "      <th></th>\n",
       "      <th>_unit_id</th>\n",
       "      <th>_golden</th>\n",
       "      <th>_unit_state</th>\n",
       "      <th>_trusted_judgments</th>\n",
       "      <th>_last_judgment_at</th>\n",
       "      <th>policies_violated</th>\n",
       "      <th>policies_violated:confidence</th>\n",
       "      <th>city</th>\n",
       "      <th>policies_violated_gold</th>\n",
       "      <th>review</th>\n",
       "    </tr>\n",
       "  </thead>\n",
       "  <tbody>\n",
       "    <tr>\n",
       "      <th>0</th>\n",
       "      <td>679455653</td>\n",
       "      <td>False</td>\n",
       "      <td>finalized</td>\n",
       "      <td>3</td>\n",
       "      <td>2/21/15 0:36</td>\n",
       "      <td>RudeService\\rOrderProblem\\rFilthy</td>\n",
       "      <td>1.0\\r0.6667\\r0.6667</td>\n",
       "      <td>Atlanta</td>\n",
       "      <td>NaN</td>\n",
       "      <td>I'm not a huge mcds lover, but I've been to be...</td>\n",
       "    </tr>\n",
       "    <tr>\n",
       "      <th>1</th>\n",
       "      <td>679455654</td>\n",
       "      <td>False</td>\n",
       "      <td>finalized</td>\n",
       "      <td>3</td>\n",
       "      <td>2/21/15 0:27</td>\n",
       "      <td>RudeService</td>\n",
       "      <td>1</td>\n",
       "      <td>Atlanta</td>\n",
       "      <td>NaN</td>\n",
       "      <td>Terrible customer service. ξI came in at 9:30p...</td>\n",
       "    </tr>\n",
       "    <tr>\n",
       "      <th>2</th>\n",
       "      <td>679455655</td>\n",
       "      <td>False</td>\n",
       "      <td>finalized</td>\n",
       "      <td>3</td>\n",
       "      <td>2/21/15 0:26</td>\n",
       "      <td>SlowService\\rOrderProblem</td>\n",
       "      <td>1.0\\r1.0</td>\n",
       "      <td>Atlanta</td>\n",
       "      <td>NaN</td>\n",
       "      <td>First they \"lost\" my order, actually they gave...</td>\n",
       "    </tr>\n",
       "    <tr>\n",
       "      <th>3</th>\n",
       "      <td>679455656</td>\n",
       "      <td>False</td>\n",
       "      <td>finalized</td>\n",
       "      <td>3</td>\n",
       "      <td>2/21/15 0:27</td>\n",
       "      <td>na</td>\n",
       "      <td>0.6667</td>\n",
       "      <td>Atlanta</td>\n",
       "      <td>NaN</td>\n",
       "      <td>I see I'm not the only one giving 1 star. Only...</td>\n",
       "    </tr>\n",
       "    <tr>\n",
       "      <th>4</th>\n",
       "      <td>679455657</td>\n",
       "      <td>False</td>\n",
       "      <td>finalized</td>\n",
       "      <td>3</td>\n",
       "      <td>2/21/15 0:27</td>\n",
       "      <td>RudeService</td>\n",
       "      <td>1</td>\n",
       "      <td>Atlanta</td>\n",
       "      <td>NaN</td>\n",
       "      <td>Well, it's McDonald's, so you know what the fo...</td>\n",
       "    </tr>\n",
       "  </tbody>\n",
       "</table>\n",
       "</div>"
      ],
      "text/plain": [
       "    _unit_id  _golden _unit_state  _trusted_judgments _last_judgment_at   \n",
       "0  679455653    False   finalized                   3      2/21/15 0:36  \\\n",
       "1  679455654    False   finalized                   3      2/21/15 0:27   \n",
       "2  679455655    False   finalized                   3      2/21/15 0:26   \n",
       "3  679455656    False   finalized                   3      2/21/15 0:27   \n",
       "4  679455657    False   finalized                   3      2/21/15 0:27   \n",
       "\n",
       "                   policies_violated policies_violated:confidence     city   \n",
       "0  RudeService\\rOrderProblem\\rFilthy          1.0\\r0.6667\\r0.6667  Atlanta  \\\n",
       "1                        RudeService                            1  Atlanta   \n",
       "2          SlowService\\rOrderProblem                     1.0\\r1.0  Atlanta   \n",
       "3                                 na                       0.6667  Atlanta   \n",
       "4                        RudeService                            1  Atlanta   \n",
       "\n",
       "   policies_violated_gold                                             review  \n",
       "0                     NaN  I'm not a huge mcds lover, but I've been to be...  \n",
       "1                     NaN  Terrible customer service. ξI came in at 9:30p...  \n",
       "2                     NaN  First they \"lost\" my order, actually they gave...  \n",
       "3                     NaN  I see I'm not the only one giving 1 star. Only...  \n",
       "4                     NaN  Well, it's McDonald's, so you know what the fo...  "
      ]
     },
     "execution_count": 15,
     "metadata": {},
     "output_type": "execute_result"
    }
   ],
   "source": [
    "df = pd.read_csv('McDonalds-Yelp-Sentiment-DFE.csv')\n",
    "df.head()\n"
   ]
  },
  {
   "cell_type": "code",
   "execution_count": 16,
   "metadata": {},
   "outputs": [
    {
     "data": {
      "text/plain": [
       "<bound method DataFrame.dropna of        _unit_id  _golden _unit_state  _trusted_judgments _last_judgment_at   \n",
       "0     679455653    False   finalized                   3      2/21/15 0:36  \\\n",
       "1     679455654    False   finalized                   3      2/21/15 0:27   \n",
       "2     679455655    False   finalized                   3      2/21/15 0:26   \n",
       "3     679455656    False   finalized                   3      2/21/15 0:27   \n",
       "4     679455657    False   finalized                   3      2/21/15 0:27   \n",
       "...         ...      ...         ...                 ...               ...   \n",
       "1520  679500008    False   finalized                   3      2/21/15 0:13   \n",
       "1521  679500224    False   finalized                   3      2/21/15 0:27   \n",
       "1522  679500608    False   finalized                   3      2/21/15 0:24   \n",
       "1523  679501257    False   finalized                   3      2/21/15 0:32   \n",
       "1524  679501402    False   finalized                   3      2/21/15 0:27   \n",
       "\n",
       "                      policies_violated policies_violated:confidence   \n",
       "0     RudeService\\rOrderProblem\\rFilthy          1.0\\r0.6667\\r0.6667  \\\n",
       "1                           RudeService                            1   \n",
       "2             SlowService\\rOrderProblem                     1.0\\r1.0   \n",
       "3                                    na                       0.6667   \n",
       "4                           RudeService                            1   \n",
       "...                                 ...                          ...   \n",
       "1520                       OrderProblem                       0.6754   \n",
       "1521       SlowService\\rFilthy\\rBadFood                1.0\\r1.0\\r1.0   \n",
       "1522                          ScaryMcDs                       0.6458   \n",
       "1523                          ScaryMcDs                       0.6407   \n",
       "1524             ScaryMcDs\\rSlowService                  1.0\\r0.6667   \n",
       "\n",
       "             city  policies_violated_gold   \n",
       "0         Atlanta                     NaN  \\\n",
       "1         Atlanta                     NaN   \n",
       "2         Atlanta                     NaN   \n",
       "3         Atlanta                     NaN   \n",
       "4         Atlanta                     NaN   \n",
       "...           ...                     ...   \n",
       "1520     Portland                     NaN   \n",
       "1521      Houston                     NaN   \n",
       "1522     New York                     NaN   \n",
       "1523      Chicago                     NaN   \n",
       "1524  Los Angeles                     NaN   \n",
       "\n",
       "                                                 review  \n",
       "0     I'm not a huge mcds lover, but I've been to be...  \n",
       "1     Terrible customer service. ξI came in at 9:30p...  \n",
       "2     First they \"lost\" my order, actually they gave...  \n",
       "3     I see I'm not the only one giving 1 star. Only...  \n",
       "4     Well, it's McDonald's, so you know what the fo...  \n",
       "...                                                 ...  \n",
       "1520  I enjoyed the part where I repeatedly asked if...  \n",
       "1521  Worst McDonalds I've been in in a long time! D...  \n",
       "1522  When I am really craving for McDonald's, this ...  \n",
       "1523  Two points right out of the gate: 1. Thuggery ...  \n",
       "1524  I wanted to grab breakfast one morning before ...  \n",
       "\n",
       "[1525 rows x 10 columns]>"
      ]
     },
     "execution_count": 16,
     "metadata": {},
     "output_type": "execute_result"
    }
   ],
   "source": [
    "df.dropna"
   ]
  },
  {
   "cell_type": "code",
   "execution_count": 17,
   "metadata": {},
   "outputs": [
    {
     "name": "stdout",
     "output_type": "stream",
     "text": [
      "<class 'pandas.core.frame.DataFrame'>\n",
      "RangeIndex: 1525 entries, 0 to 1524\n",
      "Data columns (total 10 columns):\n",
      " #   Column                        Non-Null Count  Dtype  \n",
      "---  ------                        --------------  -----  \n",
      " 0   _unit_id                      1525 non-null   int64  \n",
      " 1   _golden                       1525 non-null   bool   \n",
      " 2   _unit_state                   1525 non-null   object \n",
      " 3   _trusted_judgments            1525 non-null   int64  \n",
      " 4   _last_judgment_at             1525 non-null   object \n",
      " 5   policies_violated             1471 non-null   object \n",
      " 6   policies_violated:confidence  1471 non-null   object \n",
      " 7   city                          1438 non-null   object \n",
      " 8   policies_violated_gold        0 non-null      float64\n",
      " 9   review                        1525 non-null   object \n",
      "dtypes: bool(1), float64(1), int64(2), object(6)\n",
      "memory usage: 108.8+ KB\n"
     ]
    }
   ],
   "source": [
    "df.info()"
   ]
  },
  {
   "cell_type": "code",
   "execution_count": 18,
   "metadata": {},
   "outputs": [
    {
     "data": {
      "text/plain": [
       "Index(['_unit_id', '_golden', '_unit_state', '_trusted_judgments',\n",
       "       '_last_judgment_at', 'policies_violated',\n",
       "       'policies_violated:confidence', 'city', 'policies_violated_gold',\n",
       "       'review'],\n",
       "      dtype='object')"
      ]
     },
     "execution_count": 18,
     "metadata": {},
     "output_type": "execute_result"
    }
   ],
   "source": [
    "df.columns"
   ]
  },
  {
   "cell_type": "code",
   "execution_count": 19,
   "metadata": {},
   "outputs": [
    {
     "name": "stdout",
     "output_type": "stream",
     "text": [
      "[[679455653 False 'finalized' ... '1.0\\r0.6667\\r0.6667' 'Atlanta' nan]\n",
      " [679455654 False 'finalized' ... '1' 'Atlanta' nan]\n",
      " [679455655 False 'finalized' ... '1.0\\r1.0' 'Atlanta' nan]\n",
      " ...\n",
      " [679500608 False 'finalized' ... '0.6458' 'New York' nan]\n",
      " [679501257 False 'finalized' ... '0.6407' 'Chicago' nan]\n",
      " [679501402 False 'finalized' ... '1.0\\r0.6667' 'Los Angeles' nan]]\n"
     ]
    }
   ],
   "source": [
    "services = np.array(df)[:,:-1]\n",
    "print(services)"
   ]
  },
  {
   "cell_type": "code",
   "execution_count": 20,
   "metadata": {},
   "outputs": [
    {
     "name": "stdout",
     "output_type": "stream",
     "text": [
      "[\"I'm not a huge mcds lover, but I've been to better ones. This is by far the worst one I've ever been too! It's filthy inside and if you get drive through they completely screw up your order every time! The staff is terribly unfriendly and nobody seems to care.\"\n",
      " 'Terrible customer service. ξI came in at 9:30pm and stood in front of the register and no one bothered to say anything or help me for 5 minutes. ξThere was no one else waiting for their food inside either, just outside at the window. ξ I left and went to Chickfila next door and was greeted before I was all the way inside. This McDonalds is also dirty, the floor was covered with dropped food. Obviously filled with surly and unhappy workers.'\n",
      " 'First they \"lost\" my order, actually they gave it to someone one else than took 20 minutes to figure out why I was still waiting for my order.They after I was asked what I needed I replied, \"my order\".They asked for my ticket and the asst mgr looked at the ticket then incompletely filled it.I had to ask her to check to see if she filled it correctly.She acted as if she couldn\\'t be bothered with that so I asked her again.She begrudgingly checked to she did in fact miss something on the ticket.So after 22 minutes I finally had my breakfast biscuit platter.As I left an woman approached and identified herself as the manager, she was dressed as if she had just awoken in an old t-shirt and sweat pants.She said she had heard what happened and said she\\'d take care of it.Well why didn\\'t she intervene when she saw I was growing annoyed with the incompetence?'\n",
      " ...\n",
      " \"When I am really craving for McDonald's, this seems to be the closest. But I'm no big fan of fast food chains.I don't like this location just because there are bums inside waiting for the bus to go to Atlantic City or whatever...they usually sit and chat and drink some coffee. Same food as any other McDonald's & waitresses are friendly!\"\n",
      " 'Two points right out of the gate: 1. Thuggery knows no race (lily white frat boys from the suburbs can be just as vulgar and aggressive as any group with a gang mentality) 2. Rating a McDonald\\'s and McDonald\\'s food isn\\'t really an essential service; people generally know what they\\'re getting - menu and quality wise - going in. The purpose of this review is mostly about the safety factor. People need to know (and I think locals already do) that, depending on the time of day (night), this place is marginally dangerous. Over my last three visits to Chicago, I\\'ve noticed this neighborhood being overrun by flash mobs who do more looting, aggressive panhandling, and fighting than choreographed performing. In fact, this particular McDonald\\'s had to be closed down for several hours a couple months ago while police attempted to restore order. The Water Tower Place Mall about a block away has seen an increase in gang activity lately, including the arrest of some armed teenagers. This isn\\'t just my take (check out some of the other reviews of this place and this neighborhood). Many are pointing out that the Mag Mile is slowly becoming the \"Mug Mile.\" And this McDonald\\'s seems to be ground zero for Hip Hop Nation as they pour off the Red Line after taking up two seats on the subway while grandma has to stand. Apologists and the agenda driven will say (and have said): \"These kids are guilty of nothing other than being black in a predominantly white neighborhood.\" Really? Since when does being authentically \"black\" include screaming nonstop obscenities with little kids around (black and white)? Since when did Chicago get so soft on youth crime? Since when did it become open season on civility? [Since when did my reviews start reading like the rantings of some terrified reactionary/fascist?] While it\\'s mildly funny that Katelyn, Emily, Ashley, and their dolly buying mommies must sometimes contend with this thuggery after they leave the American Girl Doll store, nobody (not even the over-privileged, country club set) should have to endure this genuinely menacing behavior. And youth thugs (of any race) should NOT be permitted to turn this area into the \"Wild mid-West.\" Just a thought, Rahm - do what you want with it.'\n",
      " \"I wanted to grab breakfast one morning before work since it's just across the street, but the restaurant was filled with homeless people! It's like their hangout spot... I waited a lot longer than I needed to just to order. If they didn't have bums loitering around, maybe would have added one more star. The staff is not the problem, they look like they actually have to deal with a lot if problematic people. They should focus on making the place a little pleasant for their guest. No one wants to eat their burger while having to endure the smell if urine lingering off a homeless person.\"]\n"
     ]
    }
   ],
   "source": [
    "reviews = np.array(df)[:,-1]\n",
    "print(reviews)"
   ]
  },
  {
   "cell_type": "code",
   "execution_count": 40,
   "metadata": {},
   "outputs": [
    {
     "name": "stderr",
     "output_type": "stream",
     "text": [
      "[nltk_data] Error loading punkt: <urlopen error [WinError 10060] A\n",
      "[nltk_data]     connection attempt failed because the connected party\n",
      "[nltk_data]     did not properly respond after a period of time, or\n",
      "[nltk_data]     established connection failed because connected host\n",
      "[nltk_data]     has failed to respond>\n"
     ]
    },
    {
     "data": {
      "text/plain": [
       "False"
      ]
     },
     "execution_count": 40,
     "metadata": {},
     "output_type": "execute_result"
    }
   ],
   "source": [
    "import nltk\n",
    "nltk.download('punkt')"
   ]
  },
  {
   "cell_type": "code",
   "execution_count": 56,
   "metadata": {},
   "outputs": [],
   "source": [
    "def text_blob(reviews):\n",
    "    for i in range(0,len(reviews)):\n",
    "        review = TextBlob(reviews[i])\n",
    "        print(review.sentiment) "
   ]
  },
  {
   "cell_type": "code",
   "execution_count": 24,
   "metadata": {},
   "outputs": [],
   "source": [
    "import re\n",
    "import string\n",
    "from nltk.corpus import stopwords\n",
    "from nltk.tokenize import word_tokenize"
   ]
  },
  {
   "cell_type": "code",
   "execution_count": 27,
   "metadata": {},
   "outputs": [],
   "source": [
    "def clean_text(text):\n",
    "    text = text.lower()\n",
    "    text = text.translate(str.maketrans('', '', string.punctuation)) #Remove all the punctuations to empty string\n",
    "    text = re.sub(r'\\d+', '', text)\n",
    "    return text"
   ]
  },
  {
   "cell_type": "code",
   "execution_count": 60,
   "metadata": {},
   "outputs": [
    {
     "data": {
      "text/plain": [
       "['Neutral']"
      ]
     },
     "execution_count": 60,
     "metadata": {},
     "output_type": "execute_result"
    }
   ],
   "source": [
    "def analyze_sentiment(text_blob):\n",
    "    sentiments = []\n",
    "    for review in reviews:\n",
    "        analysis = TextBlob(review)\n",
    "        polarity = analysis.sentiment.polarity\n",
    "        \n",
    "        if polarity > 0:\n",
    "            sentiments.append('Positive')\n",
    "        elif polarity == 0:\n",
    "            sentiments.append('Neutral')\n",
    "        else:\n",
    "            sentiments.append('Negative')\n",
    "    \n",
    "    return sentiments\n",
    "analyze_sentiment(reviews)"
   ]
  },
  {
   "cell_type": "code",
   "execution_count": 51,
   "metadata": {},
   "outputs": [
    {
     "name": "stdout",
     "output_type": "stream",
     "text": [
      "\n"
     ]
    }
   ],
   "source": [
    "for review in reviews:\n",
    "    cleaned_review = clean_text(review)\n",
    "print(cleaned_review)"
   ]
  }
 ],
 "metadata": {
  "kernelspec": {
   "display_name": "Python 3",
   "language": "python",
   "name": "python3"
  },
  "language_info": {
   "codemirror_mode": {
    "name": "ipython",
    "version": 3
   },
   "file_extension": ".py",
   "mimetype": "text/x-python",
   "name": "python",
   "nbconvert_exporter": "python",
   "pygments_lexer": "ipython3",
   "version": "3.11.6"
  }
 },
 "nbformat": 4,
 "nbformat_minor": 2
}
